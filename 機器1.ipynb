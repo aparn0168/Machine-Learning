{
  "nbformat": 4,
  "nbformat_minor": 0,
  "metadata": {
    "colab": {
      "provenance": [],
      "authorship_tag": "ABX9TyOMbnFovB43H2JwKvJKA0m/",
      "include_colab_link": true
    },
    "kernelspec": {
      "name": "python3",
      "display_name": "Python 3"
    },
    "language_info": {
      "name": "python"
    }
  },
  "cells": [
    {
      "cell_type": "markdown",
      "metadata": {
        "id": "view-in-github",
        "colab_type": "text"
      },
      "source": [
        "<a href=\"https://colab.research.google.com/github/aparn0168/Machine-Learning/blob/main/%E6%A9%9F%E5%99%A81.ipynb\" target=\"_parent\"><img src=\"https://colab.research.google.com/assets/colab-badge.svg\" alt=\"Open In Colab\"/></a>"
      ]
    },
    {
      "cell_type": "code",
      "execution_count": null,
      "metadata": {
        "id": "vYNrZElRZawF"
      },
      "outputs": [],
      "source": [
        "from sklearn.datasets import load_iris\n",
        "iris=load_iris()\n",
        "#print(iris.target_names) #分類名稱\n",
        "#print(iris.target)    #分類代碼\n",
        "#print(iris.data)     #資料\n",
        "X=iris.data\n",
        "Y=iris.target"
      ]
    },
    {
      "cell_type": "code",
      "source": [
        "from sklearn.model_selection import train_test_split\n",
        "train_data, test_data, train_label, test_label = train_test_split(X, Y, test_size=0.3, random_state=42, shuffle=True) \n",
        "print(train_data.shape)   #訓練資料,類別           分類資料 各自類別 訓練資料比例 隨機亂數   是否打亂順序 \n",
        "print(train_label.shape)  #訓練表格\n",
        "print(test_data.shape)    #測試資料,類別\n",
        "print(test_label.shape)   #測試表格"
      ],
      "metadata": {
        "colab": {
          "base_uri": "https://localhost:8080/"
        },
        "id": "3perhCIlEJUm",
        "outputId": "51f1abb4-ad2e-412c-e55d-ecf853fe7862"
      },
      "execution_count": null,
      "outputs": [
        {
          "output_type": "stream",
          "name": "stdout",
          "text": [
            "(105, 4)\n",
            "(105,)\n",
            "(45, 4)\n",
            "(45,)\n"
          ]
        }
      ]
    },
    {
      "cell_type": "code",
      "source": [
        "from sklearn.svm import SVC\n",
        "clf=SVC(kernel='rbf',C=1,gamma='auto')\n",
        "clf.fit(train_data,train_label) #\n",
        "print(\"訓練資料正確率:\",clf.score(train_data,train_label)) #訓練資料正確率"
      ],
      "metadata": {
        "colab": {
          "base_uri": "https://localhost:8080/"
        },
        "id": "EXOuRU7nGTO9",
        "outputId": "5f1e15b3-25a6-42ea-9de6-8bb1665a3ef8"
      },
      "execution_count": null,
      "outputs": [
        {
          "output_type": "stream",
          "name": "stdout",
          "text": [
            "訓練資料正確率: 0.9904761904761905\n"
          ]
        }
      ]
    }
  ]
}