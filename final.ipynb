{
 "cells": [
  {
   "cell_type": "code",
   "execution_count": 6,
   "metadata": {},
   "outputs": [],
   "source": [
    "from selenium import webdriver\n",
    "from selenium.webdriver.chrome.options import Options\n",
    "from selenium.webdriver.chrome.service import Service\n",
    "from selenium.webdriver.support import expected_conditions as EC\n",
    "from selenium.webdriver.support.ui import WebDriverWait\n",
    "from selenium.webdriver.common.by import By\n",
    "from fake_useragent import UserAgent\n",
    "import random\n",
    "#import string\n",
    "import time"
   ]
  },
  {
   "cell_type": "code",
   "execution_count": 7,
   "metadata": {},
   "outputs": [],
   "source": [
    "options = Options() \n",
    "\n",
    "ua = UserAgent()\n",
    "userAgent = ua.random\n",
    "\n",
    "options.add_argument(f'user-agent={userAgent}')\n",
    "options.add_argument('--headless')  # 非本機執行，必須啟動Headless模式\n",
    "options.add_argument('--disable-gpu') # 關閉GPU 避免某些系統或是網頁出錯\n",
    "\n",
    "service = Service()\n",
    "driver = webdriver.Chrome(service=service, options=options)\n",
    "url = 'http://120.105.96.87/register.html'\n",
    "driver.get(url)"
   ]
  },
  {
   "cell_type": "code",
   "execution_count": 8,
   "metadata": {},
   "outputs": [],
   "source": [
    "myid = driver.find_element(By.NAME, \"id\")\n",
    "myid.clear()\n",
    "myid.send_keys(\"B10092101\") # 請輸入你的學號\n",
    "\n",
    "myemail = driver.find_element(By.NAME, \"email\")\n",
    "myemail.clear()\n",
    "myemail.send_keys(\"B10092101@std.must.edu.tw\") # 請輸入你的email\n",
    "\n",
    "passwd = driver.find_element(By.NAME, \"pwd\")\n",
    "passwd.clear()\n",
    "passwd.send_keys(\"B10092101\")  # 請輸入你要設定的登入密碼\n",
    "\n",
    "driver.get_screenshot_as_file('data1.png') # 註冊畫面\n",
    "mysubmit = WebDriverWait(driver, 5).until(EC.presence_of_element_located((By.NAME, \"submit\")))\n",
    "mysubmit.submit()\n",
    "time.sleep(1)\n",
    "driver.get_screenshot_as_file('data2.png') # 註冊結果畫面\n",
    "driver.close()"
   ]
  },
  {
   "cell_type": "code",
   "execution_count": 9,
   "metadata": {},
   "outputs": [],
   "source": [
    "service1 = Service()\n",
    "driver1 = webdriver.Chrome(service=service1, options=options)\n",
    "url = 'http://120.105.96.87/index.html'\n",
    "driver1.get(url)\n",
    "myid = driver1.find_element(By.NAME, \"id\")\n",
    "myid.clear()\n",
    "myid.send_keys(\"B10092101\") # 請輸入你的學號\n",
    "passwd = driver1.find_element(By.NAME, \"pwd\")\n",
    "passwd.clear()\n",
    "passwd.send_keys(\"B10092101\")  # 請輸入你設定的登入密碼\n",
    "driver1.get_screenshot_as_file('data3.png') # 登入畫面\n",
    "mysubmit = WebDriverWait(driver1, 5).until(EC.presence_of_element_located((By.NAME, \"submit\")))\n",
    "mysubmit.submit()\n",
    "time.sleep(1)\n",
    "driver1.get_screenshot_as_file('data4.png') # 登入結果畫面\n",
    "driver1.close()"
   ]
  },
  {
   "cell_type": "code",
   "execution_count": 10,
   "metadata": {},
   "outputs": [
    {
     "ename": "InvalidSessionIdException",
     "evalue": "Message: invalid session id\nStacktrace:\n#0 0x559037fa1133 <unknown>\n#1 0x559037cd57f0 <unknown>\n#2 0x559037d05aa9 <unknown>\n#3 0x559037d31ad6 <unknown>\n#4 0x559037d2dcea <unknown>\n#5 0x559037d2d416 <unknown>\n#6 0x559037ca54d3 <unknown>\n#7 0x559037f60cae <unknown>\n#8 0x559037f648fe <unknown>\n#9 0x559037f6df20 <unknown>\n#10 0x559037f65923 <unknown>\n#11 0x559037f38c0e <unknown>\n#12 0x559037ca3bcd <unknown>\n#13 0x7fab7ba29d90 <unknown>\n",
     "output_type": "error",
     "traceback": [
      "\u001b[0;31m---------------------------------------------------------------------------\u001b[0m",
      "\u001b[0;31mInvalidSessionIdException\u001b[0m                 Traceback (most recent call last)",
      "Cell \u001b[0;32mIn[10], line 7\u001b[0m\n\u001b[1;32m      1\u001b[0m \u001b[39mfrom\u001b[39;00m \u001b[39mselenium\u001b[39;00m\u001b[39m.\u001b[39;00m\u001b[39mwebdriver\u001b[39;00m\u001b[39m.\u001b[39;00m\u001b[39msupport\u001b[39;00m\u001b[39m.\u001b[39;00m\u001b[39mui\u001b[39;00m \u001b[39mimport\u001b[39;00m Select\n\u001b[1;32m      3\u001b[0m \u001b[39m#service2 = Service()\u001b[39;00m\n\u001b[1;32m      4\u001b[0m \u001b[39m#driver2 = webdriver.Chrome(service=service2, options=options)\u001b[39;00m\n\u001b[1;32m      5\u001b[0m \u001b[39m#url = 'http://120.105.96.87/register_all.html'\u001b[39;00m\n\u001b[0;32m----> 7\u001b[0m myid \u001b[39m=\u001b[39m driver\u001b[39m.\u001b[39;49mfind_element(By\u001b[39m.\u001b[39;49mNAME, \u001b[39m\"\u001b[39;49m\u001b[39mid\u001b[39;49m\u001b[39m\"\u001b[39;49m)\n\u001b[1;32m      8\u001b[0m myid\u001b[39m.\u001b[39mclear()\n\u001b[1;32m      9\u001b[0m myid\u001b[39m.\u001b[39msend_keys(\u001b[39m\"\u001b[39m\u001b[39mB10092101\u001b[39m\u001b[39m\"\u001b[39m) \u001b[39m# 請輸入你的學號\u001b[39;00m\n",
      "File \u001b[0;32m~/.local/share/virtualenvs/selenium-strGPMzh/lib/python3.10/site-packages/selenium/webdriver/remote/webdriver.py:831\u001b[0m, in \u001b[0;36mWebDriver.find_element\u001b[0;34m(self, by, value)\u001b[0m\n\u001b[1;32m    828\u001b[0m     by \u001b[39m=\u001b[39m By\u001b[39m.\u001b[39mCSS_SELECTOR\n\u001b[1;32m    829\u001b[0m     value \u001b[39m=\u001b[39m \u001b[39mf\u001b[39m\u001b[39m'\u001b[39m\u001b[39m[name=\u001b[39m\u001b[39m\"\u001b[39m\u001b[39m{\u001b[39;00mvalue\u001b[39m}\u001b[39;00m\u001b[39m\"\u001b[39m\u001b[39m]\u001b[39m\u001b[39m'\u001b[39m\n\u001b[0;32m--> 831\u001b[0m \u001b[39mreturn\u001b[39;00m \u001b[39mself\u001b[39;49m\u001b[39m.\u001b[39;49mexecute(Command\u001b[39m.\u001b[39;49mFIND_ELEMENT, {\u001b[39m\"\u001b[39;49m\u001b[39musing\u001b[39;49m\u001b[39m\"\u001b[39;49m: by, \u001b[39m\"\u001b[39;49m\u001b[39mvalue\u001b[39;49m\u001b[39m\"\u001b[39;49m: value})[\u001b[39m\"\u001b[39m\u001b[39mvalue\u001b[39m\u001b[39m\"\u001b[39m]\n",
      "File \u001b[0;32m~/.local/share/virtualenvs/selenium-strGPMzh/lib/python3.10/site-packages/selenium/webdriver/remote/webdriver.py:440\u001b[0m, in \u001b[0;36mWebDriver.execute\u001b[0;34m(self, driver_command, params)\u001b[0m\n\u001b[1;32m    438\u001b[0m response \u001b[39m=\u001b[39m \u001b[39mself\u001b[39m\u001b[39m.\u001b[39mcommand_executor\u001b[39m.\u001b[39mexecute(driver_command, params)\n\u001b[1;32m    439\u001b[0m \u001b[39mif\u001b[39;00m response:\n\u001b[0;32m--> 440\u001b[0m     \u001b[39mself\u001b[39;49m\u001b[39m.\u001b[39;49merror_handler\u001b[39m.\u001b[39;49mcheck_response(response)\n\u001b[1;32m    441\u001b[0m     response[\u001b[39m\"\u001b[39m\u001b[39mvalue\u001b[39m\u001b[39m\"\u001b[39m] \u001b[39m=\u001b[39m \u001b[39mself\u001b[39m\u001b[39m.\u001b[39m_unwrap_value(response\u001b[39m.\u001b[39mget(\u001b[39m\"\u001b[39m\u001b[39mvalue\u001b[39m\u001b[39m\"\u001b[39m, \u001b[39mNone\u001b[39;00m))\n\u001b[1;32m    442\u001b[0m     \u001b[39mreturn\u001b[39;00m response\n",
      "File \u001b[0;32m~/.local/share/virtualenvs/selenium-strGPMzh/lib/python3.10/site-packages/selenium/webdriver/remote/errorhandler.py:245\u001b[0m, in \u001b[0;36mErrorHandler.check_response\u001b[0;34m(self, response)\u001b[0m\n\u001b[1;32m    243\u001b[0m         alert_text \u001b[39m=\u001b[39m value[\u001b[39m\"\u001b[39m\u001b[39malert\u001b[39m\u001b[39m\"\u001b[39m]\u001b[39m.\u001b[39mget(\u001b[39m\"\u001b[39m\u001b[39mtext\u001b[39m\u001b[39m\"\u001b[39m)\n\u001b[1;32m    244\u001b[0m     \u001b[39mraise\u001b[39;00m exception_class(message, screen, stacktrace, alert_text)  \u001b[39m# type: ignore[call-arg]  # mypy is not smart enough here\u001b[39;00m\n\u001b[0;32m--> 245\u001b[0m \u001b[39mraise\u001b[39;00m exception_class(message, screen, stacktrace)\n",
      "\u001b[0;31mInvalidSessionIdException\u001b[0m: Message: invalid session id\nStacktrace:\n#0 0x559037fa1133 <unknown>\n#1 0x559037cd57f0 <unknown>\n#2 0x559037d05aa9 <unknown>\n#3 0x559037d31ad6 <unknown>\n#4 0x559037d2dcea <unknown>\n#5 0x559037d2d416 <unknown>\n#6 0x559037ca54d3 <unknown>\n#7 0x559037f60cae <unknown>\n#8 0x559037f648fe <unknown>\n#9 0x559037f6df20 <unknown>\n#10 0x559037f65923 <unknown>\n#11 0x559037f38c0e <unknown>\n#12 0x559037ca3bcd <unknown>\n#13 0x7fab7ba29d90 <unknown>\n"
     ]
    }
   ],
   "source": [
    "from selenium.webdriver.support.ui import Select\n",
    "\n",
    "#service2 = Service()\n",
    "#driver2 = webdriver.Chrome(service=service2, options=options)\n",
    "#url = 'http://120.105.96.87/register_all.html'\n",
    "\n",
    "myid = driver.find_element(By.NAME, \"id\")\n",
    "myid.clear()\n",
    "myid.send_keys(\"B10092101\") # 請輸入你的學號\n",
    "\n",
    "myemail = driver.find_element(By.NAME, \"email\")\n",
    "myemail.clear()\n",
    "myemail.send_keys(\"B10092101@std.must.edu.tw\") # 請輸入你的email\n",
    "\n",
    "passwd = driver.find_element(By.NAME, \"pwd\")\n",
    "passwd.clear()\n",
    "passwd.send_keys(\"B10092101\")  # 請輸入你設定的登入密碼\n",
    "\n",
    "sex=driver.find_element(By.ID, \"f\") # 請輸入你要輸入的性別:f、m、s\n",
    "sex.click()\n",
    "\n",
    "interest = driver.find_element(By.ID, \"tv\")# 請輸入你要輸入的興趣:tv、movie、bike\n",
    "interest.click()\n",
    "interest1 = driver.find_element(By.ID, \"movie\")# 請輸入你要輸入的興趣:tv、movie、bike\n",
    "interest1.click()\n",
    "interest2 = driver.find_element(By.ID, \"bike\")# 請輸入你要輸入的興趣:tv、movie、bike\n",
    "interest2.click()\n",
    "\n",
    "county = Select(driver.find_element(By.NAME, \"county\"))\n",
    "county.select_by_value(\"hsinchu\")#請輸入你要設定的縣市 (桃園)、(新竹)、(苗栗)、(其他)\n",
    "\n",
    "driver.get_screenshot_as_file('data5.png') # 登入畫面\n",
    "mysubmit = WebDriverWait(driver, 5).until(EC.presence_of_element_located((By.NAME, \"submit\")))\n",
    "mysubmit.submit()\n",
    "time.sleep(1)\n",
    "driver.get_screenshot_as_file('data6.png') # 登入結果畫面\n",
    "driver.close()"
   ]
  }
 ],
 "metadata": {
  "kernelspec": {
   "display_name": "selenium-strGPMzh",
   "language": "python",
   "name": "python3"
  },
  "language_info": {
   "codemirror_mode": {
    "name": "ipython",
    "version": 3
   },
   "file_extension": ".py",
   "mimetype": "text/x-python",
   "name": "python",
   "nbconvert_exporter": "python",
   "pygments_lexer": "ipython3",
   "version": "3.10.6"
  },
  "orig_nbformat": 4
 },
 "nbformat": 4,
 "nbformat_minor": 2
}
